{
  "nbformat": 4,
  "nbformat_minor": 0,
  "metadata": {
    "colab": {
      "provenance": [],
      "authorship_tag": "ABX9TyOTQ+1byWKHAN4eLDOCuFYn",
      "include_colab_link": true
    },
    "kernelspec": {
      "name": "python3",
      "display_name": "Python 3"
    },
    "language_info": {
      "name": "python"
    }
  },
  "cells": [
    {
      "cell_type": "markdown",
      "metadata": {
        "id": "view-in-github",
        "colab_type": "text"
      },
      "source": [
        "<a href=\"https://colab.research.google.com/github/MeowChau/Machine-Learning/blob/main/SpamCommentsDetection.ipynb\" target=\"_parent\"><img src=\"https://colab.research.google.com/assets/colab-badge.svg\" alt=\"Open In Colab\"/></a>"
      ]
    },
    {
      "cell_type": "code",
      "source": [
        "import pandas as pd\n",
        "import numpy as np\n",
        "from sklearn.feature_extraction.text import CountVectorizer\n",
        "from sklearn.model_selection import train_test_split\n",
        "from sklearn.naive_bayes import BernoulliNB\n",
        "\n",
        "data = pd.read_csv(\"Youtube01-Psy.csv\")\n",
        "print(data.sample(5))"
      ],
      "metadata": {
        "colab": {
          "base_uri": "https://localhost:8080/",
          "height": 0
        },
        "id": "GlgDcQobl_ol",
        "outputId": "41d5b763-d7eb-42a8-ff38-8d2bd21d92fb"
      },
      "execution_count": 3,
      "outputs": [
        {
          "output_type": "stream",
          "name": "stdout",
          "text": [
            "                                COMMENT_ID            AUTHOR  \\\n",
            "250      z12eex1wzu2ky35en22wfpswwxjqynsus      John Schmidt   \n",
            "273      z13fib54ilj0ix3ln23cy5h41xi0hduex  The O'dowd Crowd   \n",
            "271  z13qe1myote4hhwox04chrdxbv30dhraerc0k   hunter braddock   \n",
            "98       z13zfpqpvpyvwfymk232ux4odsr1s5wm0    Jack ToadROXMK   \n",
            "88     z13hgfzhnrj3sx0m222sfbo4drq1e5xyp04        Meth Lover   \n",
            "\n",
            "                    DATE                                            CONTENT  \\\n",
            "250  2014-11-08T02:58:48  why are they 5million comments when there is o...   \n",
            "273  2014-11-08T06:53:38  Come and watch my video it is called the odowd...   \n",
            "271  2014-11-08T06:36:41  For all of the little kidz out there there is ...   \n",
            "98   2014-11-04T02:00:14  Anybody who subscribes to me will get 10 subsc...   \n",
            "88   2014-11-03T20:32:26                        http://binbox.io/1FIRo#123﻿   \n",
            "\n",
            "     CLASS  \n",
            "250      0  \n",
            "273      1  \n",
            "271      0  \n",
            "98       1  \n",
            "88       1  \n"
          ]
        }
      ]
    },
    {
      "cell_type": "code",
      "source": [
        "data = data[[\"CONTENT\", \"CLASS\"]]\n",
        "print(data.sample(5))"
      ],
      "metadata": {
        "colab": {
          "base_uri": "https://localhost:8080/",
          "height": 0
        },
        "id": "aBIl5ceImEvr",
        "outputId": "87f1ccf8-3283-452a-bccc-396bd9e6d8da"
      },
      "execution_count": 4,
      "outputs": [
        {
          "output_type": "stream",
          "name": "stdout",
          "text": [
            "                                               CONTENT  CLASS\n",
            "219        Will this song ever reach 7 Billion Views?﻿      0\n",
            "146            Get free gift cards and pay pal money!﻿      1\n",
            "138                https://www.tsu.co/KodysMan plz ^^﻿      1\n",
            "220  Im a RAPPER/SONGWRITER, check my video PLEASE....      1\n",
            "249                          MANY MEMORIES...........﻿      0\n"
          ]
        }
      ]
    },
    {
      "cell_type": "code",
      "source": [
        "data[\"CLASS\"] = data[\"CLASS\"].map({0: \"Not Spam\",\n",
        "                                   1: \"Spam Comment\"})\n",
        "print(data.sample(5))"
      ],
      "metadata": {
        "colab": {
          "base_uri": "https://localhost:8080/",
          "height": 0
        },
        "id": "lJZvmNojmY4a",
        "outputId": "f2203a39-08e2-424e-8f73-dcf6d34c318d"
      },
      "execution_count": 5,
      "outputs": [
        {
          "output_type": "stream",
          "name": "stdout",
          "text": [
            "                                               CONTENT         CLASS\n",
            "245  I remember when everyone was obsessed with Gan...      Not Spam\n",
            "240  Dumb Guy: Why is there 2 billion views when th...      Not Spam\n",
            "176  https://soundcloud.com/jackal-and-james/wrap-u...  Spam Comment\n",
            "16                        I'm only checking the views﻿      Not Spam\n",
            "28   I dont even watch it anymore i just come here ...      Not Spam\n"
          ]
        }
      ]
    },
    {
      "cell_type": "code",
      "source": [
        "x = np.array(data[\"CONTENT\"])\n",
        "y = np.array(data[\"CLASS\"])\n",
        "\n",
        "cv = CountVectorizer()\n",
        "x = cv.fit_transform(x)\n",
        "xtrain, xtest, ytrain, ytest = train_test_split(x, y,\n",
        "                                                test_size=0.2,\n",
        "                                                random_state=42)\n",
        "\n",
        "model = BernoulliNB()\n",
        "model.fit(xtrain, ytrain)\n",
        "print(model.score(xtest, ytest))"
      ],
      "metadata": {
        "colab": {
          "base_uri": "https://localhost:8080/",
          "height": 0
        },
        "id": "QcXWavrqmtT7",
        "outputId": "67f93fc3-82c8-4879-ccd5-ba0866840e71"
      },
      "execution_count": 6,
      "outputs": [
        {
          "output_type": "stream",
          "name": "stdout",
          "text": [
            "0.9857142857142858\n"
          ]
        }
      ]
    },
    {
      "cell_type": "code",
      "source": [
        "sample = \"Check this out: https://thecleverprogrammer.com/\"\n",
        "data = cv.transform([sample]).toarray()\n",
        "print(model.predict(data))"
      ],
      "metadata": {
        "colab": {
          "base_uri": "https://localhost:8080/",
          "height": 0
        },
        "id": "rrm5lpKwm0rL",
        "outputId": "635a3e4d-2006-4b35-e4d4-25a8be9d61e6"
      },
      "execution_count": 7,
      "outputs": [
        {
          "output_type": "stream",
          "name": "stdout",
          "text": [
            "['Spam Comment']\n"
          ]
        }
      ]
    },
    {
      "cell_type": "code",
      "source": [
        "sample = \"Lack of information!\"\n",
        "data = cv.transform([sample]).toarray()\n",
        "print(model.predict(data))"
      ],
      "metadata": {
        "colab": {
          "base_uri": "https://localhost:8080/"
        },
        "id": "E9bWARVwnJXT",
        "outputId": "962f2d22-e9b6-4822-f340-b9b435b6df85"
      },
      "execution_count": 8,
      "outputs": [
        {
          "output_type": "stream",
          "name": "stdout",
          "text": [
            "['Not Spam']\n"
          ]
        }
      ]
    }
  ]
}